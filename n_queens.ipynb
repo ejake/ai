{
 "cells": [
  {
   "cell_type": "markdown",
   "metadata": {},
   "source": [
    "# n-Queens\n",
    "\n",
    "In a chess board with size $n\\times n$, you must to place $n$ queens in a way which some queen doesn't attack another one."
   ]
  },
  {
   "cell_type": "code",
   "execution_count": 15,
   "metadata": {
    "collapsed": false
   },
   "outputs": [],
   "source": [
    "def bt_queens(k,n,X):\n",
    "    if k >= n:\n",
    "        return\n",
    "    X[k] = 0\n",
    "    while True:\n",
    "        X[k] += 1  # select new option increase X[k]\n",
    "        if validate(k,X):  # test constraints\n",
    "            if k != n-1:\n",
    "                bt_queens(k + 1, n, X)\n",
    "            else:\n",
    "                #print 'Solution:', X\n",
    "                return X\n",
    "        if X[k] == n:\n",
    "            break\n",
    "\n",
    "\n",
    "def validate(k,X):\n",
    "    for i in range(k):\n",
    "        if X[i] == X[k] or abs(X[i] - X[k]) == abs(i - k):\n",
    "            return False\n",
    "    return True\n",
    "\n",
    "bt_queens(0, 8, [0] * 8)"
   ]
  },
  {
   "cell_type": "code",
   "execution_count": 6,
   "metadata": {
    "collapsed": false
   },
   "outputs": [],
   "source": [
    "#Add timer \n",
    "import time\n",
    "\n",
    "def time_queens(n, method = 'backtracking'):\n",
    "    X = [0] * n\n",
    "    tic = time.time()\n",
    "    if method == 'backtracking':\n",
    "        bt_queens(0, n, [0] * n)\n",
    "    return time.time() - tic\n",
    "\n"
   ]
  },
  {
   "cell_type": "code",
   "execution_count": 12,
   "metadata": {
    "collapsed": false
   },
   "outputs": [
    {
     "name": "stdout",
     "output_type": "stream",
     "text": [
      "Solution: [2, 4, 1, 3]\n",
      "Solution: [3, 1, 4, 2]\n"
     ]
    },
    {
     "data": {
      "text/plain": [
       "0.0015630722045898438"
      ]
     },
     "execution_count": 12,
     "metadata": {},
     "output_type": "execute_result"
    }
   ],
   "source": [
    "time_queens(4)"
   ]
  },
  {
   "cell_type": "code",
   "execution_count": 16,
   "metadata": {
    "collapsed": false,
    "scrolled": true
   },
   "outputs": [],
   "source": [
    "time_bt = []\n",
    "for i in range(4,14,2):\n",
    "    time_bt.append(time_queens(i))"
   ]
  },
  {
   "cell_type": "code",
   "execution_count": 20,
   "metadata": {
    "collapsed": true
   },
   "outputs": [],
   "source": [
    "%matplotlib inline\n",
    "import numpy as np\n",
    "import matplotlib.pyplot as plt"
   ]
  },
  {
   "cell_type": "code",
   "execution_count": 26,
   "metadata": {
    "collapsed": false
   },
   "outputs": [
    {
     "data": {
      "text/plain": [
       "<matplotlib.text.Text at 0x7f9ee4e0a890>"
      ]
     },
     "execution_count": 26,
     "metadata": {},
     "output_type": "execute_result"
    },
    {
     "data": {
      "image/png": "[encoded data removed]",
      "text/plain": [
       "<matplotlib.figure.Figure at 0x7f9ee4fcecd0>"
      ]
     },
     "metadata": {},
     "output_type": "display_data"
    }
   ],
   "source": [
    "plt.plot(range(4,14,2),time_bt,'-ob',label='backtracking')\n",
    "plt.plot(range(4,18,2),range(4,18,2),'-om',label='line')\n",
    "plt.legend(loc=2)\n",
    "plt.ylabel('Time(ms)')\n",
    "plt.xlabel('n')"
   ]
  },
  {
   "cell_type": "markdown",
   "metadata": {
    "collapsed": true
   },
   "source": [
    "## Assignment\n",
    "\n",
    "Use at least two strategies to improve the backtracking search to solve the n-queens problem, such as:\n",
    "\n",
    "<ul>\n",
    "<li>Minimum remaining values</li>\n",
    "<li>Degree heuristic</li>\n",
    "<li>Least constraining value</li>\n",
    "<li>Forward checking</li>\n",
    "</ul>\n",
    "\n",
    "Depict the execution time comparing each technique and analyze the improvements."
   ]
  },
  {
   "cell_type": "code",
   "execution_count": null,
   "metadata": {
    "collapsed": true
   },
   "outputs": [],
   "source": []
  }
 ],
 "metadata": {
  "kernelspec": {
   "display_name": "Python 2",
   "language": "python",
   "name": "python2"
  },
  "language_info": {
   "codemirror_mode": {
    "name": "ipython",
    "version": 2
   },
   "file_extension": ".py",
   "mimetype": "text/x-python",
   "name": "python",
   "nbconvert_exporter": "python",
   "pygments_lexer": "ipython2",
   "version": "2.7.11"
  }
 },
 "nbformat": 4,
 "nbformat_minor": 0
}
